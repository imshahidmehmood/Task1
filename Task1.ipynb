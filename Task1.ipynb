{
 "cells": [
  {
   "cell_type": "code",
   "execution_count": 1,
   "metadata": {},
   "outputs": [],
   "source": [
    "'''\n",
    "\n",
    "Reading Recipes\n",
    "Note: Data file is recipes.csv Attached with jupyter notebook\n",
    "\n",
    "1. Start by importing NumPy as np\n",
    "'''\n",
    "import numpy as np\n"
   ]
  },
  {
   "cell_type": "code",
   "execution_count": 4,
   "metadata": {},
   "outputs": [
    {
     "data": {
      "text/plain": [
       "array([2.  , 0.75, 2.  , 1.  , 0.5 ])"
      ]
     },
     "execution_count": 4,
     "metadata": {},
     "output_type": "execute_result"
    }
   ],
   "source": [
    "'''\n",
    "All of Alize’s recipes call for milk, eggs, sugar, flour, and butter.\n",
    "For example, her cupcake recipe calls for:\n",
    "Flour Sugar Eggs Milk Butter 2 cups 0.75 cups 2 eggs 1 cups 0.5 cups\n",
    "Create a NumPy array that represents this data. Each element should be a number (i.e., 2 for “2 cups”). \n",
    "Save this array as cupcakes.\n",
    "\n",
    "\n",
    "'''\n",
    "import numpy as np\n",
    "cupcakes=np.array([2,0.75,2,1,0.5])\n",
    "cupcakes"
   ]
  },
  {
   "cell_type": "code",
   "execution_count": 5,
   "metadata": {},
   "outputs": [
    {
     "name": "stdout",
     "output_type": "stream",
     "text": [
      "[[2.    0.75  2.    1.    0.5  ]\n",
      " [1.    0.125 1.    1.    0.125]\n",
      " [2.75  1.5   1.    0.    1.   ]\n",
      " [4.    0.5   2.    0.    0.5  ]]\n"
     ]
    }
   ],
   "source": [
    "'''\n",
    "Alize’s assistant has compiled all of her recipes into a csv (comma-separated variable) file called recipes.csv. Load this file into a variable called recipes.\n",
    "#####Explore yourselves how to load a csv file in numpy\n",
    "'''\n",
    "from numpy import loadtxt\n",
    "file = '/home/shahid/Desktop/recipes1.csv'\n",
    "data = open(file,'rt')\n",
    "recipes = loadtxt(data,delimiter=',')\n",
    "print(recipes)"
   ]
  },
  {
   "cell_type": "code",
   "execution_count": 6,
   "metadata": {},
   "outputs": [
    {
     "name": "stdout",
     "output_type": "stream",
     "text": [
      "cupcakes: [2.   0.75 2.   1.   0.5 ]\n",
      "pancakes: [1.    0.125 1.    1.    0.125]\n",
      "cookie: [2.75 1.5  1.   0.   1.  ]\n",
      "Bread: [4.  0.5 2.  0.  0.5]\n"
     ]
    }
   ],
   "source": [
    "'''\n",
    "4.Display recipes using print. Display recipes using print.\n",
    "\n",
    "Each row represents a different recipe. Each column represents a different ingredient.\n",
    "\n",
    "Recipe Cups of Flour Cups of Sugar Eggs Cups of Milk Cups of Butter\n",
    "\n",
    "Cupcakes … … … … …\n",
    "\n",
    "Pancake … … … … …\n",
    "\n",
    "Cookie … … … … …\n",
    "\n",
    "Bread … … … … …\n",
    "'''\n",
    "#access  different of row recipe files \n",
    "print('cupcakes:',recipes[0,:])\n",
    "print('pancakes:',recipes[1,:])\n",
    "print('cookie:',recipes[2,:])\n",
    "print('Bread:',recipes[3,:])"
   ]
  },
  {
   "cell_type": "code",
   "execution_count": 7,
   "metadata": {},
   "outputs": [
    {
     "data": {
      "text/plain": [
       "array([1., 1., 0., 0.])"
      ]
     },
     "execution_count": 7,
     "metadata": {},
     "output_type": "execute_result"
    }
   ],
   "source": [
    "'''\n",
    "5.The 3rd column represents the number of eggs that each recipe needs.\n",
    "\n",
    "Select all elements from the 3rd column and save them to the variable eggs.\n",
    "'''\n",
    "#access third column of recipes file \n",
    "eggs = recipes[:,3]\n",
    "eggs"
   ]
  },
  {
   "cell_type": "code",
   "execution_count": 8,
   "metadata": {},
   "outputs": [
    {
     "name": "stdout",
     "output_type": "stream",
     "text": [
      "[ True  True False False]\n",
      "[2.   0.75 2.   1.   0.5 ]\n",
      "[1.    0.125 1.    1.    0.125]\n"
     ]
    },
    {
     "data": {
      "text/plain": [
       "array([[2.   , 0.75 , 2.   , 1.   , 0.5  ],\n",
       "       [1.   , 0.125, 1.   , 1.   , 0.125]])"
      ]
     },
     "execution_count": 8,
     "metadata": {},
     "output_type": "execute_result"
    }
   ],
   "source": [
    "'''\n",
    "6.Which recipes require exactly 1 egg? Use a logical statement to get True or False for each value of eggs.\n",
    "'''\n",
    "eggs\n",
    "values = (eggs == 1)\n",
    "print(values)\n",
    "print(recipes[values][0])\n",
    "print(recipes[values][1])\n",
    "recipes[values]"
   ]
  },
  {
   "cell_type": "code",
   "execution_count": 9,
   "metadata": {},
   "outputs": [
    {
     "name": "stdout",
     "output_type": "stream",
     "text": [
      "[2.   0.75 2.   1.   0.5 ]\n",
      "[2.75 1.5  1.   0.   1.  ]\n"
     ]
    }
   ],
   "source": [
    "'''\n",
    "7.Alize is going to make 2 batches of cupcakes (1st row) and 1 batch of cookies (3rd row).\n",
    "\n",
    "You already have a variable for cupcakes. Create a variable for cookies with the data from the 3rd row.\n",
    "'''\n",
    "cupcakes = recipes[0,:]\n",
    "print(cupcakes)\n",
    "cookies = recipes[2,:]\n",
    "print(cookies)"
   ]
  },
  {
   "cell_type": "code",
   "execution_count": 10,
   "metadata": {},
   "outputs": [
    {
     "data": {
      "text/plain": [
       "array([4. , 1.5, 4. , 2. , 1. ])"
      ]
     },
     "execution_count": 10,
     "metadata": {},
     "output_type": "execute_result"
    }
   ],
   "source": [
    "'''\n",
    "\n",
    "8. Get the number of ingredients for a double batch of cupcakes by using multiplication on cupcakes. \n",
    "Save your new variable to double_batch.\n",
    "'''\n",
    "double_batch = cupcakes * 2\n",
    "double_batch"
   ]
  },
  {
   "cell_type": "code",
   "execution_count": 11,
   "metadata": {},
   "outputs": [
    {
     "data": {
      "text/plain": [
       "array([6.75, 3.  , 5.  , 2.  , 2.  ])"
      ]
     },
     "execution_count": 11,
     "metadata": {},
     "output_type": "execute_result"
    }
   ],
   "source": [
    "'''\n",
    "9. Create a new variable called grocery_list by adding cookies and double_batch.\n",
    "'''\n",
    "grocery_list = cookies+double_batch\n",
    "grocery_list"
   ]
  },
  {
   "cell_type": "code",
   "execution_count": null,
   "metadata": {},
   "outputs": [],
   "source": []
  }
 ],
 "metadata": {
  "kernelspec": {
   "display_name": "Python 3",
   "language": "python",
   "name": "python3"
  },
  "language_info": {
   "codemirror_mode": {
    "name": "ipython",
    "version": 3
   },
   "file_extension": ".py",
   "mimetype": "text/x-python",
   "name": "python",
   "nbconvert_exporter": "python",
   "pygments_lexer": "ipython3",
   "version": "3.6.4"
  }
 },
 "nbformat": 4,
 "nbformat_minor": 2
}
